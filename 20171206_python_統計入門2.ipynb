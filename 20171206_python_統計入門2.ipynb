{
 "cells": [
  {
   "cell_type": "markdown",
   "metadata": {},
   "source": [
    "## 1. 非一様乱数を生成する"
   ]
  },
  {
   "cell_type": "markdown",
   "metadata": {},
   "source": [
    "区間$[0,1]$ の一様乱数の確率密度関数\n",
    "\n",
    "\\begin{equation*}\n",
    "f(x) =1 (0 \\le x \\le1), \\ 0 (その他)   \\tag{1} \n",
    "\\end{equation*}\n",
    "\n",
    "から，任意の確率密度関数 $g(t(x))$ を持つ非一様乱数を与えるための $t$ と $x$ の関係,\n",
    "\n",
    "\\begin{equation*}\n",
    "t=w(x)  \\tag{2} \n",
    "\\end{equation*}\n",
    "\n",
    "を求めたい。まず，\"確率の保存\"の要請から，\n",
    "\n",
    "\\begin{equation*}\n",
    "f(x)dx=g(t)dt  \\tag{3} \n",
    "\\end{equation*}\n",
    "\n",
    "である。式(1)を用いると\n",
    "\n",
    "\\begin{equation*}\n",
    "dx = g(t)dt \\Leftrightarrow x(t) = \\int_{−∞}^{t}  g(t')dt'+C    \\tag{3'} \n",
    "\\end{equation*}\n",
    "\n"
   ]
  },
  {
   "cell_type": "markdown",
   "metadata": {},
   "source": [
    "を得る。ここで， $C$ は積分定数である。十分条件として$x(−∞)=C=0$ ととる。\n",
    "\n",
    "このとき\n",
    "$\\int_{−∞}^{∞} g(t')dt'=1$\n",
    "であるから，  $x(∞)=1$となる。\n"
   ]
  },
  {
   "cell_type": "markdown",
   "metadata": {},
   "source": [
    "以上から， $x$ と $t$ の関係は\n",
    "\n",
    "\\begin{equation*}\n",
    "x(t)=\\int_{−∞}^{t}  g(t')dt'  \\tag{4}\n",
    "\\end{equation*}\n",
    "\n",
    "によって結ばれていることがわかる。<br>\n",
    "$g(t)$ は与えるものである。ここから $t$ を$x$ の関係として求め式(2)の $w(x)$ を決定すれば(逆関数を求めれば)，<br>\n",
    "そのtは非一様分布 $g(t)$ を与える確率変数となる。\n",
    "\n",
    "以上が任意の確率分布 $g(t)$ に従う乱数を発生させる手続きである。\n"
   ]
  },
  {
   "cell_type": "markdown",
   "metadata": {},
   "source": [
    "## 2. 今回確認する分布\n",
    "\n",
    "(1) 指数関数的な分布\n",
    "$g(t) = exp(−t) (t>0),  0 (t< 0))$\n",
    "に従う非一様乱数を求める。\n",
    "\n",
    "(2) 平均値が $t_{av}$, 標準偏差が$σ$ のガウス分布にしたがう非一様乱数を求める。<br>\n",
    "通常の方法では逆関数を求めることが難しいため，2次元平面での関数密度を<br>\n",
    "極座標に変換するボックス-ミュラー法を用いる。\n"
   ]
  },
  {
   "cell_type": "markdown",
   "metadata": {},
   "source": [
    "###  2.1 指数分布　"
   ]
  },
  {
   "cell_type": "markdown",
   "metadata": {},
   "source": [
    "式(4)を用いる。\n",
    "\n",
    "\\begin{equation*}\n",
    "x(t)=\\int_{−∞}^{t}  g(t')dt'=\\int_{0}^{t} exp(-t') dt' = 1- exp(-t)\n",
    "\\end{equation*}\n",
    "\n",
    "であるから，ここから $t$ を $x$ の関数として求めると\n",
    "\n",
    "\\begin{equation*}\n",
    "t=w(x)=- ln(1-x) \\tag{5}\n",
    "\\end{equation*}\n",
    "\n",
    "を得る。$[0,1]$ の一様乱数を $x$ に与えると，式(5)によって $t$ の分布が決まり，<br>\n",
    "それらは指数関数 $g(t)=exp(-t)$ として分布するのである。\n",
    "\n",
    "それを以下のプログラムで確かめよう。"
   ]
  },
  {
   "cell_type": "code",
   "execution_count": 5,
   "metadata": {},
   "outputs": [
    {
     "data": {
      "image/png": "[encoded data removed]",
      "text/plain": [
       "<matplotlib.figure.Figure at 0x7f9ee0f36eb8>"
      ]
     },
     "metadata": {},
     "output_type": "display_data"
    }
   ],
   "source": [
    "\"\"\"\n",
    "x=[0,1]の一様乱数から指数関数型の非一様分布に従う乱数の発生\n",
    "\"\"\"\n",
    "\n",
    "from random import random\n",
    "import numpy as np\n",
    "from math import log\n",
    "\n",
    "import matplotlib.pyplot as plt\n",
    "\n",
    "# 1. [0,1]の一様乱数のデータ点数 (N->∞で頻度分布が確率密度関数となる)\n",
    "data_list=[]\n",
    "N=10**6  \n",
    "\n",
    "for n in range(N):\n",
    "    x=random()\n",
    "    t=-log(1-x) # x->t への変換: t = -log(1-x)\n",
    "    data_list.append(t)\n",
    "\n",
    "#plot\n",
    "fig=plt.figure()\n",
    "ax=fig.add_subplot(111)\n",
    "\n",
    "Nbins=int(N/100)\n",
    "# [0,5]の範囲でNbins等分した規格化された棒グラフの作成\n",
    "ax.hist(data_list, range=(0,5),bins=Nbins,normed=True) \n",
    "\n",
    "# 2. 理論確率密度分布 y = exp(-x)\n",
    "xx=np.linspace(0,5,100)\n",
    "yy=np.exp(-xx)\n",
    "plt.plot(xx,yy, label='Theory: g (t) = exp(-t)')\n",
    "plt.legend(loc='best')\n",
    "\n",
    "plt.xlabel('t',size=24)\n",
    "plt.ylabel('Frequency', size=24)\n",
    "\n",
    "plt.show()"
   ]
  },
  {
   "cell_type": "markdown",
   "metadata": {},
   "source": [
    "$x=[0,1]$ で100万点サンプルしたものから式(5)を用いて $t$ を生成しそれの頻度分布を描いたもの。<br>\n",
    "理論曲線 $g(t)=exp(−t)$ を再現していることが分かる。\n"
   ]
  },
  {
   "cell_type": "markdown",
   "metadata": {},
   "source": [
    "###  2.2 ガウス分布"
   ]
  },
  {
   "cell_type": "markdown",
   "metadata": {},
   "source": [
    "平均値 $t_{av}$, 標準偏差 $σ$ のガウス分布\n",
    "\n",
    "\\begin{equation*}\n",
    "g(t)= \\frac{1}{\\sqrt{2 \\pi \\sigma^2}} \\  exp(\\frac{-(t-t_{av})^2}{2 \\sigma^2})\n",
    "\\end{equation*}\n",
    "\n",
    "を<a href=\"https://goo.gl/TSj4Yq\">ボックス-ミュラー法</a>により生成する。\n",
    "\n",
    "2つの一様乱数変数 $x$ と $y$ から，この場合は2つの独立なガウス分布を持つ非一様乱数に従う<br>\n",
    "変数 $t_1$ と $t_2$ が得られる。\n",
    "\n",
    "\\begin{equation*}\n",
    "t_1 = \\sigma \\ [(-2ln(x))^{1/2} \\ cos(2 \\pi y)+t_{av}   ]\n",
    "\\end{equation*}\n",
    "\n",
    "\\begin{equation*}\n",
    "t_2 = \\sigma \\ [(-2ln(x))^{1/2} \\ sin(2 \\pi y)+t_{av}   ]\n",
    "\\end{equation*}\n",
    "\n",
    "これを確かめてみよう。\n",
    "\n",
    "以下のコードは $σ=1,t_{av}=10$ としてモンテカルロシミュレーションを行ったものである。"
   ]
  },
  {
   "cell_type": "code",
   "execution_count": 6,
   "metadata": {},
   "outputs": [
    {
     "data": {
      "image/png": "[encoded data removed]",
      "text/plain": [
       "<matplotlib.figure.Figure at 0x7f9eafbc7828>"
      ]
     },
     "metadata": {},
     "output_type": "display_data"
    }
   ],
   "source": [
    "\"\"\"\n",
    "ガウス分布を生成する非一様乱数\n",
    "ボックス-ミュラーの方法\n",
    "\"\"\"\n",
    "\n",
    "from random import random\n",
    "from math import cos, sin, pi, log, sqrt\n",
    "import numpy as np\n",
    "import matplotlib.pyplot as plt\n",
    "\n",
    "data_list1=[]\n",
    "#data_list2=[]\n",
    "\n",
    "N=10**5 # [0,1]の一様乱数のデータ点数 (N->∞で頻度分布が確率密度関数となる)\n",
    "\n",
    "sigma=1.0 #標準偏差\n",
    "ave=10   # 平均値\n",
    "for n in range(N):\n",
    "    x1=random()\n",
    "    x2=random()\n",
    "    t1=sigma*((-2*log(x1))**(1/2))*(cos(2*pi*x2))+ave             #x->t への変換:\n",
    "    t2=sigma*((-2*log(x1))**(1/2))*(sin(2*pi*x2))+ave             #x->t への変換:\n",
    "\n",
    "    data_list1.append(t1)\n",
    "#    data_list2.append(t2)\n",
    "\n",
    "#plot\n",
    "fig=plt.figure()\n",
    "ax=fig.add_subplot(111)\n",
    "\n",
    "Nbins=int(N/100)\n",
    "#ax.hist(data_list, range=(0,10),bins=Nbins,normed=True) \n",
    "# [0,5]の範囲でNbins等分した規格化された棒グラフの作成\n",
    "\"\"\"\n",
    "[0,∞]のガウス分布にして正規化してしまうと，本来の積聞値が0.5なのに\n",
    "1にするため数値が頻度が二倍に勘定されてしまうことに注意! \n",
    "平均値を大きめにすると良い.\n",
    "\"\"\"\n",
    "\n",
    "# [0,5]の範囲でNbins等分した規格化された棒グラフの作成 \n",
    "ax.hist(data_list1, range=(0,20),bins=Nbins,normed=True) \n",
    "\n",
    "#ax.hist(data_list2, range=(0,20),bins=Nbins,normed=True) \n",
    "# [0,5]の範囲でNbins等分した規格化された棒グラフの作成 \n",
    "\n",
    "\n",
    "# 理論確率密度分布 \n",
    "xx=np.linspace(0,20,100)\n",
    "yy=(1/sqrt(2*pi*sigma**2))*np.exp((-(xx-ave)**2)/(2*sigma**2)) # ガウス分布\n",
    "plt.plot(xx,yy, label='Theory')\n",
    "plt.legend(loc='best')\n",
    "\n",
    "plt.xlabel('t',size=24)\n",
    "plt.ylabel('Frequency', size=24)\n",
    "\n",
    "plt.show()"
   ]
  },
  {
   "cell_type": "markdown",
   "metadata": {},
   "source": [
    "オレンジの線が理論曲線(ガウス関数)である。<br>\n",
    "頻度分布がガウス分布を再現していることがわかる。"
   ]
  },
  {
   "cell_type": "code",
   "execution_count": null,
   "metadata": {},
   "outputs": [],
   "source": []
  }
 ],
 "metadata": {
  "kernelspec": {
   "display_name": "Python 3",
   "language": "python",
   "name": "python3"
  },
  "language_info": {
   "codemirror_mode": {
    "name": "ipython",
    "version": 3
   },
   "file_extension": ".py",
   "mimetype": "text/x-python",
   "name": "python",
   "nbconvert_exporter": "python",
   "pygments_lexer": "ipython3",
   "version": "3.6.2"
  }
 },
 "nbformat": 4,
 "nbformat_minor": 2
}
